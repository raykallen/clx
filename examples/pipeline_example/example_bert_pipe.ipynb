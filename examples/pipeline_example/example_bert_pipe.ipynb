{
 "cells": [
  {
   "cell_type": "code",
   "execution_count": 19,
   "id": "increased-trance",
   "metadata": {},
   "outputs": [],
   "source": [
    "import cudf"
   ]
  },
  {
   "cell_type": "code",
   "execution_count": 20,
   "id": "exclusive-bedroom",
   "metadata": {},
   "outputs": [],
   "source": [
    "MODEL_FILE = 'placeholder_pii2'\n",
    "\n",
    "TOKENIZER_HASH_FILE = 'bert-base-cased-hash.txt'"
   ]
  },
  {
   "cell_type": "markdown",
   "id": "fresh-acceptance",
   "metadata": {},
   "source": [
    "### EXAMPLE DATA"
   ]
  },
  {
   "cell_type": "code",
   "execution_count": 21,
   "id": "divine-medium",
   "metadata": {},
   "outputs": [],
   "source": [
    "pcap_data = [\"POST /netq/user/v1/ HTTP/1.0\\r\\nHost: bing_bong-customermgmt:8080\\r\\nclaimed-opid: 0\\r\\nclaimed-user: \\\n",
    "            admin\\r\\nclaimed-role: admin\\r\\nclaimed-custid:0\\r\\nclaimed-namespace: NAN\\r\\nAuthorization: Bearer \\\n",
    "            eyJhbGciOiJIUzI1NiIsInR5cCI6IkpXVCJ9.eyJyb2xlIjoiYWRtaW4iLCJleHBpcmVzQXQiOjE2MTQyNjAwMDM2NTQsIm9waWQiOj\\\n",
    "            AsImN1c3RJZCI6MCwidXNlciI6ImFkbOIn0.bja4ZepgxxOurDiDYgwH5qRS9tO4bfF6nCjo7Ip1qE4\\r\\nUser-Agent: \\\n",
    "            ddde-http/10.1.7\\r\\nContent-Type: application/json\\r\\nContent-Length: 341\\r\\n\\r\\n{\\\"password\\\":\\\"Netq@123\\\",\\\n",
    "            \\\"id\\\":\\\"rachel@email.com\\\",\\\"email\\\":\\\"rachel@email.com\\\",\\\"first_name\\\":\\\"Rachel\\\",\\\"last_name\\\":\\\"Allen\\\"\\\n",
    "            ,\\\"role\\\":\\\"admin\\\",\\\"admin_password\\\":\\\"Pass@123\\\",\\\"default_workbench\\\":{\\\"workspace_id\\\":\\\"DEFAULT\\\",\\\"workbench_id\\\"\\\n",
    "            :\\\"DEFAULT\\\"},\\\"preferences\\\":{\\\"theme\\\":\\\"jade\\\",\\\"language\\\":\\\"en-initial\\\",\\\"date_format\\\":\\\"M/d/yy h:mm a\\\",\\\"timezone\\\":\\\"+0530\\\n",
    "            \\POST /netq/user/v1/ HTTP/1.0\\r\\nHost: netq-app-customermgmt:8080\\r\\nclaimed-opid: 0\\r\\nclaimed-user: admin\\r\\nclaimed-role:\\}\",\n",
    "            \"\\u0000\\u0000\\u0000&\\u0000\\u0003\\u0000\\t\\u0000\\u0000\\u0000G\\u0000\\u0016snapshotStatusProducer\\u0000\\u0001\\u0001\\u0000\\u0000\\u0000\"]\n"
   ]
  },
  {
   "cell_type": "code",
   "execution_count": 22,
   "id": "compact-clearing",
   "metadata": {},
   "outputs": [],
   "source": [
    "# to cudf\n",
    "\n",
    "cudf_input = cudf.Series(pcap_data)"
   ]
  },
  {
   "cell_type": "markdown",
   "id": "centered-touch",
   "metadata": {},
   "source": [
    "### PREPROCESSING"
   ]
  },
  {
   "cell_type": "code",
   "execution_count": 23,
   "id": "opposite-recycling",
   "metadata": {},
   "outputs": [],
   "source": [
    "import cudf\n",
    "import cupy\n",
    "import torch\n",
    "from torch.utils.dlpack import from_dlpack, to_dlpack"
   ]
  },
  {
   "cell_type": "code",
   "execution_count": 24,
   "id": "brave-polls",
   "metadata": {},
   "outputs": [],
   "source": [
    "def bert_cased_tokenize(strings, max_seq_len):\n",
    "        \"\"\"\n",
    "        converts cudf.Series of strings to two torch tensors and meta_data- token ids and attention mask with padding\n",
    "        \"\"\"\n",
    "        max_seq_len = 512\n",
    "        num_strings = len(strings)\n",
    "        token_ids, mask, meta_data = strings.str.subword_tokenize(\n",
    "            TOKENIZER_HASH_FILE,\n",
    "            max_length=max_seq_len,\n",
    "            stride=500,\n",
    "            do_lower=False,\n",
    "            do_truncate=True,\n",
    "        )\n",
    "\n",
    "        # convert from cupy to torch tensor using dlpack\n",
    "        input_ids = from_dlpack(\n",
    "            token_ids.reshape(-1, 512).astype(cupy.float).toDlpack()\n",
    "        )\n",
    "        attention_mask = from_dlpack(\n",
    "            mask.reshape(-1, 512).astype(cupy.float).toDlpack()\n",
    "        )\n",
    "        \n",
    "        return input_ids.type(torch.long), attention_mask.type(torch.long), meta_data.reshape(-1,3)"
   ]
  },
  {
   "cell_type": "code",
   "execution_count": 25,
   "id": "missing-graph",
   "metadata": {},
   "outputs": [],
   "source": [
    "# cudf subword tokenizer\n",
    "\n",
    "input_ids, masks, meta_data = bert_cased_tokenize(cudf_input, 512)"
   ]
  },
  {
   "cell_type": "markdown",
   "id": "satisfied-coordinate",
   "metadata": {},
   "source": [
    "two strings- first one spans two rows of the tensor"
   ]
  },
  {
   "cell_type": "code",
   "execution_count": 26,
   "id": "worse-harvey",
   "metadata": {},
   "outputs": [
    {
     "data": {
      "text/plain": [
       "torch.Size([2, 512])"
      ]
     },
     "execution_count": 26,
     "metadata": {},
     "output_type": "execute_result"
    }
   ],
   "source": [
    "input_ids.size() # on device"
   ]
  },
  {
   "cell_type": "code",
   "execution_count": 27,
   "id": "reliable-volunteer",
   "metadata": {},
   "outputs": [
    {
     "data": {
      "text/plain": [
       "torch.Size([2, 512])"
      ]
     },
     "execution_count": 27,
     "metadata": {},
     "output_type": "execute_result"
    }
   ],
   "source": [
    "masks.size() # on device"
   ]
  },
  {
   "cell_type": "code",
   "execution_count": 28,
   "id": "affecting-directory",
   "metadata": {},
   "outputs": [
    {
     "data": {
      "text/plain": [
       "array([[  0,   0, 501],\n",
       "       [  1,   0,  11]], dtype=uint32)"
      ]
     },
     "execution_count": 28,
     "metadata": {},
     "output_type": "execute_result"
    }
   ],
   "source": [
    "meta_data # on host"
   ]
  },
  {
   "cell_type": "markdown",
   "id": "editorial-brother",
   "metadata": {},
   "source": [
    "### INFERENCE"
   ]
  },
  {
   "cell_type": "code",
   "execution_count": 29,
   "id": "abroad-blade",
   "metadata": {},
   "outputs": [],
   "source": [
    "model = torch.load(MODEL_FILE).to('cuda')"
   ]
  },
  {
   "cell_type": "code",
   "execution_count": 33,
   "id": "otherwise-smith",
   "metadata": {},
   "outputs": [],
   "source": [
    "with torch.no_grad():\n",
    "    logits = model(input_ids, token_type_ids=None, attention_mask=masks)[0]\n",
    "    probs = torch.sigmoid(logits[:, 1])\n",
    "    preds = probs.ge(0.5)"
   ]
  },
  {
   "cell_type": "code",
   "execution_count": 34,
   "id": "interstate-penetration",
   "metadata": {},
   "outputs": [
    {
     "data": {
      "text/plain": [
       "tensor([0.8865, 0.1480], device='cuda:0')"
      ]
     },
     "execution_count": 34,
     "metadata": {},
     "output_type": "execute_result"
    }
   ],
   "source": [
    "probs"
   ]
  },
  {
   "cell_type": "code",
   "execution_count": 35,
   "id": "downtown-judge",
   "metadata": {},
   "outputs": [
    {
     "data": {
      "text/plain": [
       "tensor([ True, False], device='cuda:0')"
      ]
     },
     "execution_count": 35,
     "metadata": {},
     "output_type": "execute_result"
    }
   ],
   "source": [
    "preds"
   ]
  },
  {
   "cell_type": "code",
   "execution_count": null,
   "id": "efficient-master",
   "metadata": {},
   "outputs": [],
   "source": []
  },
  {
   "cell_type": "code",
   "execution_count": null,
   "id": "amber-reduction",
   "metadata": {},
   "outputs": [],
   "source": []
  }
 ],
 "metadata": {
  "kernelspec": {
   "display_name": "Python 3",
   "language": "python",
   "name": "python3"
  },
  "language_info": {
   "codemirror_mode": {
    "name": "ipython",
    "version": 3
   },
   "file_extension": ".py",
   "mimetype": "text/x-python",
   "name": "python",
   "nbconvert_exporter": "python",
   "pygments_lexer": "ipython3",
   "version": "3.7.8"
  }
 },
 "nbformat": 4,
 "nbformat_minor": 5
}
